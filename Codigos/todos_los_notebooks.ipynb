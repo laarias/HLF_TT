{
 "cells": [
  {
   "cell_type": "code",
   "execution_count": 2,
   "metadata": {},
   "outputs": [
    {
     "name": "stdout",
     "output_type": "stream",
     "text": [
      "Cantidad de pacientes en la base 1933\n",
      "Cantidad de pacientes nuevos encontrados: 24\n"
     ]
    }
   ],
   "source": [
    "%run V2_notebook_colorectal.ipynb"
   ]
  },
  {
   "cell_type": "code",
   "execution_count": 3,
   "metadata": {},
   "outputs": [
    {
     "name": "stdout",
     "output_type": "stream",
     "text": [
      "Cantidad de pacientes en la base 630\n",
      "Cantidad de pacientes nuevos encontrados: 8\n"
     ]
    }
   ],
   "source": [
    "%run V2_notebook_tiroides.ipynb"
   ]
  },
  {
   "cell_type": "code",
   "execution_count": 4,
   "metadata": {},
   "outputs": [
    {
     "name": "stdout",
     "output_type": "stream",
     "text": [
      "Cantidad de pacientes en la base 930\n",
      "Cantidad de pacientes nuevos encontrados: 5\n"
     ]
    }
   ],
   "source": [
    "%run V2_notebook_gastrico.ipynb"
   ]
  },
  {
   "cell_type": "code",
   "execution_count": 6,
   "metadata": {},
   "outputs": [
    {
     "name": "stdout",
     "output_type": "stream",
     "text": [
      "Cantidad de pacientes en la base 902\n",
      "Cantidad de pacientes nuevos encontrados: 2\n",
      "Cantidad de pacientes en la base 902\n",
      "Cantidad de pacientes nuevos encontrados: 2\n",
      "Cantidad de pacientes en la base 902\n",
      "Cantidad de pacientes nuevos encontrados: 1\n",
      "voy a eliminar \\\\apolo\\Gestion_Oncologica\\SCRIPT\\..\\CA HEMATOLOGICOS\\Reporte diario casos nuevos\\20240708_Pacientes_nuevos_mieloma.xlsx\n",
      "voy a eliminar \\\\apolo\\Gestion_Oncologica\\SCRIPT\\..\\CA HEMATOLOGICOS\\Reporte diario casos nuevos\\20240708_Pacientes_nuevos_linfoma.xlsx\n",
      "voy a eliminar \\\\apolo\\Gestion_Oncologica\\SCRIPT\\..\\CA HEMATOLOGICOS\\Reporte diario casos nuevos\\20240708_Pacientes_nuevos_leucemia.xlsx\n",
      "voy a eliminar \\\\apolo\\Gestion_Oncologica\\SCRIPT\\..\\CA HEMATOLOGICOS\\20240708_citas_futuras_mieloma.xlsx\n",
      "voy a eliminar \\\\apolo\\Gestion_Oncologica\\SCRIPT\\..\\CA HEMATOLOGICOS\\20240708_citas_futuras_linfoma.xlsx\n",
      "voy a eliminar \\\\apolo\\Gestion_Oncologica\\SCRIPT\\..\\CA HEMATOLOGICOS\\20240708_citas_futuras_leucemia.xlsx\n",
      "voy a eliminar \\\\apolo\\Gestion_Oncologica\\SCRIPT\\..\\CA HEMATOLOGICOS\\20240708_ultima_atencion_mieloma.xlsx\n",
      "voy a eliminar \\\\apolo\\Gestion_Oncologica\\SCRIPT\\..\\CA HEMATOLOGICOS\\20240708_ultima_atencion_linfoma.xlsx\n",
      "voy a eliminar \\\\apolo\\Gestion_Oncologica\\SCRIPT\\..\\CA HEMATOLOGICOS\\20240708_ultima_atencion_leucemia.xlsx\n"
     ]
    }
   ],
   "source": [
    "%run V2_notebook_hemato.ipynb"
   ]
  },
  {
   "cell_type": "code",
   "execution_count": 7,
   "metadata": {},
   "outputs": [
    {
     "name": "stdout",
     "output_type": "stream",
     "text": [
      "Cantidad de pacientes en la base 938\n",
      "Cantidad de pacientes nuevos encontrados: 4\n"
     ]
    }
   ],
   "source": [
    "%run V2_notebook_pulmon.ipynb"
   ]
  },
  {
   "cell_type": "code",
   "execution_count": null,
   "metadata": {},
   "outputs": [],
   "source": []
  }
 ],
 "metadata": {
  "kernelspec": {
   "display_name": "Python 3",
   "language": "python",
   "name": "python3"
  },
  "language_info": {
   "codemirror_mode": {
    "name": "ipython",
    "version": 3
   },
   "file_extension": ".py",
   "mimetype": "text/x-python",
   "name": "python",
   "nbconvert_exporter": "python",
   "pygments_lexer": "ipython3",
   "version": "3.11.4"
  }
 },
 "nbformat": 4,
 "nbformat_minor": 2
}
